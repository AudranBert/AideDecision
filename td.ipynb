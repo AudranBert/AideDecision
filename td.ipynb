{
 "cells": [
  {
   "cell_type": "code",
   "execution_count": 109,
   "metadata": {},
   "outputs": [
    {
     "name": "stdout",
     "output_type": "stream",
     "text": [
      "The autoreload extension is already loaded. To reload it, use:\n",
      "  %reload_ext autoreload\n"
     ]
    }
   ],
   "source": [
    "%load_ext autoreload\n",
    "%autoreload 2"
   ]
  },
  {
   "cell_type": "code",
   "execution_count": 110,
   "metadata": {},
   "outputs": [],
   "source": [
    "import numpy as np\n",
    "from functools import partial\n",
    "from pareto import pareto, ParetoResults\n",
    "from promethee import *\n",
    "from electre import *"
   ]
  },
  {
   "cell_type": "code",
   "execution_count": 111,
   "metadata": {},
   "outputs": [
    {
     "name": "stdout",
     "output_type": "stream",
     "text": [
      "optimal:            A, C, E\n",
      "weakly dominated:   ∅\n",
      "strongly dominated: B, D\n"
     ]
    }
   ],
   "source": [
    "labels = list(\"ABCDE\")\n",
    "values = np.array([\n",
    "    (10, 1400),\n",
    "    (9, 1700),\n",
    "    (8, 1500),\n",
    "    (7.5, 2000),\n",
    "    (6, 1900)\n",
    "], dtype=np.int32)\n",
    "\n",
    "print(pareto(values, [-1, -1]).repr_labelled(labels))"
   ]
  },
  {
   "cell_type": "code",
   "execution_count": 112,
   "metadata": {},
   "outputs": [
    {
     "name": "stdout",
     "output_type": "stream",
     "text": [
      "optimal:            C, E\n",
      "weakly dominated:   D\n",
      "strongly dominated: A, B\n"
     ]
    }
   ],
   "source": [
    "labels = list(\"ABCDE\")\n",
    "values = np.array([\n",
    "    (8, 5),\n",
    "    (9, 2),\n",
    "    (12, 1),\n",
    "    (13, 2),\n",
    "    (16, 2)\n",
    "], dtype=np.int32)\n",
    "\n",
    "print(pareto(values, [1, -1]).repr_labelled(labels))"
   ]
  },
  {
   "cell_type": "code",
   "execution_count": 113,
   "metadata": {},
   "outputs": [
    {
     "name": "stdout",
     "output_type": "stream",
     "text": [
      "optimal:            C, D, F\n",
      "weakly dominated:   A, E\n",
      "strongly dominated: B\n"
     ]
    }
   ],
   "source": [
    "labels = list(\"ABCDEF\")\n",
    "values = np.array([\n",
    "    (2, 78, 700),\n",
    "    (1, 82, 1200),\n",
    "    (1, 50, 250),\n",
    "    (3, 150, 200),\n",
    "    (3, 170, 450),\n",
    "    (2, 65, 500)\n",
    "], dtype=np.int32)\n",
    "\n",
    "print(pareto(values, [1, -1, -1]).repr_labelled(labels))"
   ]
  },
  {
   "attachments": {},
   "cell_type": "markdown",
   "metadata": {},
   "source": [
    "# TD2"
   ]
  },
  {
   "cell_type": "code",
   "execution_count": 114,
   "metadata": {},
   "outputs": [],
   "source": [
    "def mask_columns(values, norm_mul, cols):\n",
    "    cols = np.array(cols)\n",
    "    return values[:, cols], norm_mul[cols]"
   ]
  },
  {
   "cell_type": "code",
   "execution_count": 115,
   "metadata": {},
   "outputs": [
    {
     "name": "stdout",
     "output_type": "stream",
     "text": [
      "With columns C2, C6\n",
      "optimal:            A4, A6\n",
      "weakly dominated:   ∅\n",
      "strongly dominated: A1, A2, A3, A5\n",
      "\n",
      "With columns C1, C2, C6\n",
      "optimal:            A1, A4, A6\n",
      "weakly dominated:   ∅\n",
      "strongly dominated: A2, A3, A5\n",
      "\n",
      "With columns C1, C2, C4, C6\n",
      "optimal:            A1, A4, A5, A6\n",
      "weakly dominated:   ∅\n",
      "strongly dominated: A2, A3\n",
      "\n"
     ]
    }
   ],
   "source": [
    "labels = [f\"A{i+1}\" for i in range(6)]\n",
    "values = np.array([\n",
    "    (80, 90, 600, 5.4, 8, 5),\n",
    "    (65, 58, 200, 9.7, 1, 1),\n",
    "    (83, 60, 400, 7.2, 4, 7),\n",
    "    (40, 80, 1000, 7.5, 7, 10),\n",
    "    (52, 72, 600, 2.0, 3, 8),\n",
    "    (94, 96, 700, 3.6, 5, 6)\n",
    "])\n",
    "norm_mul = np.array([-1, 1, -1, -1, -1, 1])\n",
    "\n",
    "for indices in [1, 5], [0, 1, 5], [0, 1, 3, 5]:\n",
    "    print(f\"With columns {', '.join(f'C{i+1}' for i in indices)}\")\n",
    "    print(pareto(*mask_columns(values, norm_mul, indices)).repr_labelled(labels))\n",
    "    print()"
   ]
  },
  {
   "cell_type": "code",
   "execution_count": 116,
   "metadata": {},
   "outputs": [
    {
     "name": "stdout",
     "output_type": "stream",
     "text": [
      "ϕ+: [0.38 0.46 0.5  0.48 0.66 0.48]\n",
      "ϕ-: [0.58 0.54 0.5  0.52 0.3  0.52]\n",
      "ϕ*: [-0.2  -0.08  0.   -0.04  0.36 -0.04]\n",
      "\n",
      "by ϕ+: A1 < A2 < A4 <= A6 < A3 < A5\n",
      "by ϕ-: A1 < A2 < A6 <= A4 < A3 < A5\n",
      "by ϕ*: A1 < A2 < A6 <= A4 < A3 < A5\n",
      "\n",
      "scores:\n",
      "[[0.  0.5 0.4 0.5 0.2 0.3]\n",
      " [0.5 0.  0.5 0.4 0.4 0.5]\n",
      " [0.6 0.5 0.  0.5 0.2 0.7]\n",
      " [0.5 0.6 0.5 0.  0.5 0.3]\n",
      " [0.6 0.6 0.8 0.5 0.  0.8]\n",
      " [0.7 0.5 0.3 0.7 0.2 0. ]]\n"
     ]
    }
   ],
   "source": [
    "print(promethee(values, norm_mul, np.array([0.1, 0.2, 0.2, 0.1, 0.2, 0.2])).repr_labelled(labels))"
   ]
  },
  {
   "cell_type": "code",
   "execution_count": 117,
   "metadata": {},
   "outputs": [
    {
     "name": "stdout",
     "output_type": "stream",
     "text": [
      "ϕ+: [0.3165 0.453  0.393  0.435  0.578  0.4305]\n",
      "ϕ-: [0.505  0.4845 0.428  0.4915 0.284  0.413 ]\n",
      "ϕ*: [-0.1885 -0.0315 -0.035  -0.0565  0.294   0.0175]\n",
      "\n",
      "by ϕ+: A1 < A3 < A6 < A4 < A2 < A5\n",
      "by ϕ-: A1 < A4 < A2 < A3 < A6 < A5\n",
      "by ϕ*: A1 < A4 < A3 < A2 < A6 < A5\n",
      "\n",
      "scores:\n",
      "[[0.     0.5    0.26   0.4525 0.2    0.17  ]\n",
      " [0.475  0.     0.49   0.4    0.4    0.5   ]\n",
      " [0.6    0.3025 0.     0.4075 0.2    0.455 ]\n",
      " [0.4    0.555  0.5    0.     0.42   0.3   ]\n",
      " [0.585  0.565  0.6    0.5    0.     0.64  ]\n",
      " [0.465  0.5    0.29   0.6975 0.2    0.    ]]\n"
     ]
    }
   ],
   "source": [
    "step_fn = make_promethee_linear_step(np.array([20, 10, 200, 4, 2, 2]))\n",
    "print(promethee(values, norm_mul, np.array([0.1, 0.2, 0.2, 0.1, 0.2, 0.2]), step_fn).repr_labelled(labels))"
   ]
  },
  {
   "cell_type": "code",
   "execution_count": 118,
   "metadata": {},
   "outputs": [
    {
     "name": "stdout",
     "output_type": "stream",
     "text": [
      "s=0.50: A2<-A3, A4<-A3, A1<-A4, A5<-A4, A1<-A5, A2<-A5, A3<-A5, A4<-A5, A6<-A5, A1<-A6, A2<-A6\n",
      "s=0.52: A1<-A5, A2<-A5, A3<-A5, A6<-A5, A1<-A6\n",
      "s=0.54: A1<-A5, A2<-A5, A3<-A5, A6<-A5, A1<-A6\n",
      "s=0.56: A1<-A5, A2<-A5, A3<-A5, A6<-A5, A1<-A6\n",
      "s=0.58: A1<-A5, A2<-A5, A3<-A5, A6<-A5, A1<-A6\n",
      "s=0.60: A1<-A5, A2<-A5, A3<-A5, A6<-A5, A1<-A6\n",
      "s=0.62: A1<-A5, A3<-A5, A6<-A5, A1<-A6\n",
      "s=0.64: A1<-A5, A3<-A5, A6<-A5, A1<-A6\n",
      "s=0.66: A1<-A5, A3<-A5, A6<-A5, A1<-A6\n",
      "s=0.68: A1<-A5, A3<-A5, A6<-A5, A1<-A6\n",
      "s=0.70: A1<-A5, A3<-A5, A6<-A5\n",
      "s=0.72: A1<-A5, A3<-A5, A6<-A5\n",
      "s=0.74: A1<-A5, A3<-A5, A6<-A5\n",
      "s=0.76: A1<-A5, A3<-A5, A6<-A5\n",
      "s=0.78: A1<-A5, A3<-A5, A6<-A5\n",
      "s=0.80: \n",
      "s=0.82: \n",
      "s=0.84: \n",
      "s=0.86: \n",
      "s=0.88: \n",
      "s=0.90: \n",
      "s=0.92: \n",
      "s=0.94: \n",
      "s=0.96: \n",
      "s=0.98: \n",
      "kernel: [('A5', 'A1'), ('A5', 'A2'), ('A5', 'A3'), ('A5', 'A6'), ('A6', 'A1')]\n",
      "score_table:\n",
      "[[0.  0.5 0.4 0.5 0.4 0.3]\n",
      " [0.5 0.  0.5 0.4 0.4 0.5]\n",
      " [0.6 0.5 0.  0.5 0.2 0.7]\n",
      " [0.5 0.6 0.5 0.  0.5 0.3]\n",
      " [0.8 0.6 0.8 0.5 0.  0.8]\n",
      " [0.7 0.5 0.3 0.7 0.2 0. ]]\n",
      "non_veto_table:\n",
      "[[False False  True False False  True]\n",
      " [False False False False False False]\n",
      " [False  True False  True  True False]\n",
      " [ True False False False  True  True]\n",
      " [ True  True  True  True False  True]\n",
      " [ True  True  True False  True False]]\n"
     ]
    },
    {
     "data": {
      "image/svg+xml": "<?xml version=\"1.0\" encoding=\"UTF-8\" standalone=\"no\"?>\n<!DOCTYPE svg PUBLIC \"-//W3C//DTD SVG 1.1//EN\"\n \"http://www.w3.org/Graphics/SVG/1.1/DTD/svg11.dtd\">\n<!-- Generated by graphviz version 7.1.0 (0)\n -->\n<!-- Pages: 1 -->\n<svg width=\"260pt\" height=\"218pt\"\n viewBox=\"0.00 0.00 260.00 218.00\" xmlns=\"http://www.w3.org/2000/svg\" xmlns:xlink=\"http://www.w3.org/1999/xlink\">\n<g id=\"graph0\" class=\"graph\" transform=\"scale(1 1) rotate(0) translate(4 214)\">\n<polygon fill=\"white\" stroke=\"none\" points=\"-4,4 -4,-214 256,-214 256,4 -4,4\"/>\n<!-- 0 -->\n<g id=\"node1\" class=\"node\">\n<title>0</title>\n<ellipse fill=\"none\" stroke=\"black\" cx=\"27\" cy=\"-18\" rx=\"27\" ry=\"18\"/>\n<text text-anchor=\"middle\" x=\"27\" y=\"-14.3\" font-family=\"Times,serif\" font-size=\"14.00\">A1</text>\n</g>\n<!-- 1 -->\n<g id=\"node2\" class=\"node\">\n<title>1</title>\n<ellipse fill=\"none\" stroke=\"black\" cx=\"81\" cy=\"-105\" rx=\"27\" ry=\"18\"/>\n<text text-anchor=\"middle\" x=\"81\" y=\"-101.3\" font-family=\"Times,serif\" font-size=\"14.00\">A2</text>\n</g>\n<!-- 2 -->\n<g id=\"node3\" class=\"node\">\n<title>2</title>\n<ellipse fill=\"none\" stroke=\"black\" cx=\"153\" cy=\"-105\" rx=\"27\" ry=\"18\"/>\n<text text-anchor=\"middle\" x=\"153\" y=\"-101.3\" font-family=\"Times,serif\" font-size=\"14.00\">A3</text>\n</g>\n<!-- 3 -->\n<g id=\"node4\" class=\"node\">\n<title>3</title>\n<ellipse fill=\"none\" stroke=\"black\" cx=\"189\" cy=\"-192\" rx=\"27\" ry=\"18\"/>\n<text text-anchor=\"middle\" x=\"189\" y=\"-188.3\" font-family=\"Times,serif\" font-size=\"14.00\">A4</text>\n</g>\n<!-- 4 -->\n<g id=\"node5\" class=\"node\">\n<title>4</title>\n<ellipse fill=\"none\" stroke=\"black\" cx=\"117\" cy=\"-192\" rx=\"27\" ry=\"18\"/>\n<text text-anchor=\"middle\" x=\"117\" y=\"-188.3\" font-family=\"Times,serif\" font-size=\"14.00\">A5</text>\n</g>\n<!-- 4&#45;&gt;0 -->\n<g id=\"edge1\" class=\"edge\">\n<title>4&#45;&gt;0</title>\n<path fill=\"none\" stroke=\"black\" d=\"M94.02,-182.37C70.57,-172.18 35.47,-152.74 20,-123 7.75,-99.46 11.83,-68.76 17.55,-46.83\"/>\n<polygon fill=\"black\" stroke=\"black\" points=\"20.87,-47.98 20.29,-37.4 14.14,-46.03 20.87,-47.98\"/>\n<text text-anchor=\"middle\" x=\"32.5\" y=\"-101.3\" font-family=\"Times,serif\" font-size=\"14.00\">0.80</text>\n</g>\n<!-- 4&#45;&gt;1 -->\n<g id=\"edge2\" class=\"edge\">\n<title>4&#45;&gt;1</title>\n<path fill=\"none\" stroke=\"black\" d=\"M109.89,-174.21C104.96,-162.56 98.28,-146.8 92.59,-133.36\"/>\n<polygon fill=\"black\" stroke=\"black\" points=\"95.81,-132 88.69,-124.15 89.37,-134.73 95.81,-132\"/>\n<text text-anchor=\"middle\" x=\"113.5\" y=\"-144.8\" font-family=\"Times,serif\" font-size=\"14.00\">0.60</text>\n</g>\n<!-- 4&#45;&gt;2 -->\n<g id=\"edge3\" class=\"edge\">\n<title>4&#45;&gt;2</title>\n<path fill=\"none\" stroke=\"black\" d=\"M124.11,-174.21C129.04,-162.56 135.72,-146.8 141.41,-133.36\"/>\n<polygon fill=\"black\" stroke=\"black\" points=\"144.63,-134.73 145.31,-124.15 138.19,-132 144.63,-134.73\"/>\n<text text-anchor=\"middle\" x=\"149.5\" y=\"-144.8\" font-family=\"Times,serif\" font-size=\"14.00\">0.80</text>\n</g>\n<!-- 5 -->\n<g id=\"node6\" class=\"node\">\n<title>5</title>\n<ellipse fill=\"none\" stroke=\"black\" cx=\"225\" cy=\"-105\" rx=\"27\" ry=\"18\"/>\n<text text-anchor=\"middle\" x=\"225\" y=\"-101.3\" font-family=\"Times,serif\" font-size=\"14.00\">A6</text>\n</g>\n<!-- 4&#45;&gt;5 -->\n<g id=\"edge4\" class=\"edge\">\n<title>4&#45;&gt;5</title>\n<path fill=\"none\" stroke=\"black\" d=\"M135.41,-178.39C144.72,-171.88 156.1,-163.71 166,-156 177.63,-146.94 190.15,-136.45 200.64,-127.43\"/>\n<polygon fill=\"black\" stroke=\"black\" points=\"202.86,-130.13 208.13,-120.94 198.28,-124.84 202.86,-130.13\"/>\n<text text-anchor=\"middle\" x=\"196.5\" y=\"-144.8\" font-family=\"Times,serif\" font-size=\"14.00\">0.80</text>\n</g>\n<!-- 5&#45;&gt;0 -->\n<g id=\"edge5\" class=\"edge\">\n<title>5&#45;&gt;0</title>\n<path fill=\"none\" stroke=\"black\" d=\"M203.37,-93.6C198.65,-91.38 193.67,-89.08 189,-87 144.7,-67.25 92.92,-45.8 60.06,-32.38\"/>\n<polygon fill=\"black\" stroke=\"black\" points=\"61.66,-29.25 51.07,-28.72 59.02,-35.74 61.66,-29.25\"/>\n<text text-anchor=\"middle\" x=\"156.5\" y=\"-57.8\" font-family=\"Times,serif\" font-size=\"14.00\">0.70</text>\n</g>\n</g>\n</svg>\n",
      "text/plain": [
       "<graphviz.graphs.Digraph at 0x7f81e6599ed0>"
      ]
     },
     "execution_count": 118,
     "metadata": {},
     "output_type": "execute_result"
    }
   ],
   "source": [
    "electre_results = electre(\n",
    "    values,\n",
    "    norm_mul,\n",
    "    np.array([0.1, 0.2, 0.2, 0.1, 0.2, 0.2]),\n",
    "    electre_binary_step,\n",
    "    0.6,\n",
    "    np.array([45, 29, 550, 6, 4.5, 4.5])\n",
    ")\n",
    "\n",
    "print(electre_results.repr_labelled(labels))\n",
    "electre_results.graph"
   ]
  },
  {
   "cell_type": "code",
   "execution_count": 121,
   "metadata": {},
   "outputs": [
    {
     "name": "stdout",
     "output_type": "stream",
     "text": [
      "s=0.50: A6<-A1, A2<-A3, A4<-A3, A1<-A4, A5<-A4, A1<-A5, A2<-A5, A3<-A5, A4<-A5, A6<-A5, A1<-A6, A2<-A6, A3<-A6\n",
      "s=0.52: A6<-A1, A1<-A4, A1<-A5, A2<-A5, A3<-A5, A4<-A5, A6<-A5, A1<-A6, A3<-A6\n",
      "s=0.54: A1<-A4, A1<-A5, A2<-A5, A3<-A5, A4<-A5, A6<-A5, A1<-A6, A3<-A6\n",
      "s=0.56: A1<-A5, A2<-A5, A3<-A5, A4<-A5, A6<-A5, A1<-A6\n",
      "s=0.58: A1<-A5, A2<-A5, A3<-A5, A4<-A5, A6<-A5, A1<-A6\n",
      "s=0.60: A1<-A5, A2<-A5, A3<-A5, A6<-A5, A1<-A6\n",
      "s=0.62: A1<-A5, A3<-A5, A6<-A5, A1<-A6\n",
      "s=0.64: A1<-A5, A3<-A5, A6<-A5, A1<-A6\n",
      "s=0.66: A1<-A5, A3<-A5, A6<-A5, A1<-A6\n",
      "s=0.68: A1<-A5, A3<-A5, A6<-A5, A1<-A6\n",
      "s=0.70: A1<-A5, A3<-A5, A6<-A5, A1<-A6\n",
      "s=0.72: A1<-A5, A3<-A5, A6<-A5, A1<-A6\n",
      "s=0.74: A1<-A5, A3<-A5, A6<-A5, A1<-A6\n",
      "s=0.76: A1<-A5, A3<-A5, A6<-A5, A1<-A6\n",
      "s=0.78: A1<-A5, A3<-A5, A6<-A5, A1<-A6\n",
      "s=0.80: A1<-A6\n",
      "s=0.82: A1<-A6\n",
      "s=0.84: \n",
      "s=0.86: \n",
      "s=0.88: \n",
      "s=0.90: \n",
      "s=0.92: \n",
      "s=0.94: \n",
      "s=0.96: \n",
      "s=0.98: \n",
      "kernel: [('A5', 'A1'), ('A5', 'A2'), ('A5', 'A3'), ('A5', 'A6'), ('A6', 'A1')]\n",
      "score_table:\n",
      "[[0.     0.525  0.4    0.6    0.415  0.535 ]\n",
      " [0.5    0.     0.6975 0.445  0.435  0.5   ]\n",
      " [0.74   0.51   0.     0.5    0.4    0.71  ]\n",
      " [0.5475 0.6    0.5925 0.     0.5    0.3025]\n",
      " [0.8    0.6    0.8    0.58   0.     0.8   ]\n",
      " [0.83   0.5    0.545  0.7    0.36   0.    ]]\n",
      "non_veto_table:\n",
      "[[False False  True False False  True]\n",
      " [False False False False False False]\n",
      " [False  True False  True  True False]\n",
      " [ True False False False  True  True]\n",
      " [ True  True  True  True False  True]\n",
      " [ True  True  True False  True False]]\n"
     ]
    },
    {
     "data": {
      "image/svg+xml": "<?xml version=\"1.0\" encoding=\"UTF-8\" standalone=\"no\"?>\n<!DOCTYPE svg PUBLIC \"-//W3C//DTD SVG 1.1//EN\"\n \"http://www.w3.org/Graphics/SVG/1.1/DTD/svg11.dtd\">\n<!-- Generated by graphviz version 7.1.0 (0)\n -->\n<!-- Pages: 1 -->\n<svg width=\"260pt\" height=\"218pt\"\n viewBox=\"0.00 0.00 260.00 218.00\" xmlns=\"http://www.w3.org/2000/svg\" xmlns:xlink=\"http://www.w3.org/1999/xlink\">\n<g id=\"graph0\" class=\"graph\" transform=\"scale(1 1) rotate(0) translate(4 214)\">\n<polygon fill=\"white\" stroke=\"none\" points=\"-4,4 -4,-214 256,-214 256,4 -4,4\"/>\n<!-- 0 -->\n<g id=\"node1\" class=\"node\">\n<title>0</title>\n<ellipse fill=\"none\" stroke=\"black\" cx=\"27\" cy=\"-18\" rx=\"27\" ry=\"18\"/>\n<text text-anchor=\"middle\" x=\"27\" y=\"-14.3\" font-family=\"Times,serif\" font-size=\"14.00\">A1</text>\n</g>\n<!-- 1 -->\n<g id=\"node2\" class=\"node\">\n<title>1</title>\n<ellipse fill=\"none\" stroke=\"black\" cx=\"81\" cy=\"-105\" rx=\"27\" ry=\"18\"/>\n<text text-anchor=\"middle\" x=\"81\" y=\"-101.3\" font-family=\"Times,serif\" font-size=\"14.00\">A2</text>\n</g>\n<!-- 2 -->\n<g id=\"node3\" class=\"node\">\n<title>2</title>\n<ellipse fill=\"none\" stroke=\"black\" cx=\"153\" cy=\"-105\" rx=\"27\" ry=\"18\"/>\n<text text-anchor=\"middle\" x=\"153\" y=\"-101.3\" font-family=\"Times,serif\" font-size=\"14.00\">A3</text>\n</g>\n<!-- 3 -->\n<g id=\"node4\" class=\"node\">\n<title>3</title>\n<ellipse fill=\"none\" stroke=\"black\" cx=\"189\" cy=\"-192\" rx=\"27\" ry=\"18\"/>\n<text text-anchor=\"middle\" x=\"189\" y=\"-188.3\" font-family=\"Times,serif\" font-size=\"14.00\">A4</text>\n</g>\n<!-- 4 -->\n<g id=\"node5\" class=\"node\">\n<title>4</title>\n<ellipse fill=\"none\" stroke=\"black\" cx=\"117\" cy=\"-192\" rx=\"27\" ry=\"18\"/>\n<text text-anchor=\"middle\" x=\"117\" y=\"-188.3\" font-family=\"Times,serif\" font-size=\"14.00\">A5</text>\n</g>\n<!-- 4&#45;&gt;0 -->\n<g id=\"edge1\" class=\"edge\">\n<title>4&#45;&gt;0</title>\n<path fill=\"none\" stroke=\"black\" d=\"M94.02,-182.37C70.57,-172.18 35.47,-152.74 20,-123 7.75,-99.46 11.83,-68.76 17.55,-46.83\"/>\n<polygon fill=\"black\" stroke=\"black\" points=\"20.87,-47.98 20.29,-37.4 14.14,-46.03 20.87,-47.98\"/>\n<text text-anchor=\"middle\" x=\"32.5\" y=\"-101.3\" font-family=\"Times,serif\" font-size=\"14.00\">0.80</text>\n</g>\n<!-- 4&#45;&gt;1 -->\n<g id=\"edge2\" class=\"edge\">\n<title>4&#45;&gt;1</title>\n<path fill=\"none\" stroke=\"black\" d=\"M109.89,-174.21C104.96,-162.56 98.28,-146.8 92.59,-133.36\"/>\n<polygon fill=\"black\" stroke=\"black\" points=\"95.81,-132 88.69,-124.15 89.37,-134.73 95.81,-132\"/>\n<text text-anchor=\"middle\" x=\"113.5\" y=\"-144.8\" font-family=\"Times,serif\" font-size=\"14.00\">0.60</text>\n</g>\n<!-- 4&#45;&gt;2 -->\n<g id=\"edge3\" class=\"edge\">\n<title>4&#45;&gt;2</title>\n<path fill=\"none\" stroke=\"black\" d=\"M124.11,-174.21C129.04,-162.56 135.72,-146.8 141.41,-133.36\"/>\n<polygon fill=\"black\" stroke=\"black\" points=\"144.63,-134.73 145.31,-124.15 138.19,-132 144.63,-134.73\"/>\n<text text-anchor=\"middle\" x=\"149.5\" y=\"-144.8\" font-family=\"Times,serif\" font-size=\"14.00\">0.80</text>\n</g>\n<!-- 5 -->\n<g id=\"node6\" class=\"node\">\n<title>5</title>\n<ellipse fill=\"none\" stroke=\"black\" cx=\"225\" cy=\"-105\" rx=\"27\" ry=\"18\"/>\n<text text-anchor=\"middle\" x=\"225\" y=\"-101.3\" font-family=\"Times,serif\" font-size=\"14.00\">A6</text>\n</g>\n<!-- 4&#45;&gt;5 -->\n<g id=\"edge4\" class=\"edge\">\n<title>4&#45;&gt;5</title>\n<path fill=\"none\" stroke=\"black\" d=\"M135.41,-178.39C144.72,-171.88 156.1,-163.71 166,-156 177.63,-146.94 190.15,-136.45 200.64,-127.43\"/>\n<polygon fill=\"black\" stroke=\"black\" points=\"202.86,-130.13 208.13,-120.94 198.28,-124.84 202.86,-130.13\"/>\n<text text-anchor=\"middle\" x=\"196.5\" y=\"-144.8\" font-family=\"Times,serif\" font-size=\"14.00\">0.80</text>\n</g>\n<!-- 5&#45;&gt;0 -->\n<g id=\"edge5\" class=\"edge\">\n<title>5&#45;&gt;0</title>\n<path fill=\"none\" stroke=\"black\" d=\"M203.37,-93.6C198.65,-91.38 193.67,-89.08 189,-87 144.7,-67.25 92.92,-45.8 60.06,-32.38\"/>\n<polygon fill=\"black\" stroke=\"black\" points=\"61.66,-29.25 51.07,-28.72 59.02,-35.74 61.66,-29.25\"/>\n<text text-anchor=\"middle\" x=\"156.5\" y=\"-57.8\" font-family=\"Times,serif\" font-size=\"14.00\">0.83</text>\n</g>\n</g>\n</svg>\n",
      "text/plain": [
       "<graphviz.graphs.Digraph at 0x7f81bd32b550>"
      ]
     },
     "execution_count": 121,
     "metadata": {},
     "output_type": "execute_result"
    }
   ],
   "source": [
    "electre_results = electre(\n",
    "    values,\n",
    "    norm_mul,\n",
    "    np.array([0.1, 0.2, 0.2, 0.1, 0.2, 0.2]),\n",
    "    make_electre_linear_step(np.array([20, 10, 200, 4, 2, 2])),\n",
    "    0.6,\n",
    "    np.array([45, 29, 550, 6, 4.5, 4.5])\n",
    ")\n",
    "\n",
    "print(electre_results.repr_labelled(labels))\n",
    "electre_results.graph"
   ]
  }
 ],
 "metadata": {
  "kernelspec": {
   "display_name": "bi",
   "language": "python",
   "name": "python3"
  },
  "language_info": {
   "codemirror_mode": {
    "name": "ipython",
    "version": 3
   },
   "file_extension": ".py",
   "mimetype": "text/x-python",
   "name": "python",
   "nbconvert_exporter": "python",
   "pygments_lexer": "ipython3",
   "version": "3.11.0"
  },
  "orig_nbformat": 4,
  "vscode": {
   "interpreter": {
    "hash": "cc6e353560f63b0b78dfb6aa3a5689f5e79ab6caac28de9bb5c5c2f668764dc6"
   }
  }
 },
 "nbformat": 4,
 "nbformat_minor": 2
}
